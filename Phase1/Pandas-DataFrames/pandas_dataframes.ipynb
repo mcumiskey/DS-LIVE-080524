{
 "cells": [
  {
   "cell_type": "markdown",
   "metadata": {},
   "source": [
    "![pandas](https://upload.wikimedia.org/wikipedia/commons/thumb/e/ed/Pandas_logo.svg/2880px-Pandas_logo.svg.png)"
   ]
  },
  {
   "cell_type": "markdown",
   "metadata": {
    "heading_collapsed": true
   },
   "source": [
    "# Objectives"
   ]
  },
  {
   "cell_type": "markdown",
   "metadata": {
    "hidden": true
   },
   "source": [
    "- Load .csv files into `pandas` DataFrames\n",
    "- Describe and manipulate data in Series and DataFrames"
   ]
  },
  {
   "cell_type": "markdown",
   "metadata": {
    "heading_collapsed": true
   },
   "source": [
    "# What is Pandas?\n",
    "\n",
    "![I have no idea what I'm doing panda](https://cdn-images-1.medium.com/max/1600/1*oBx032ncOwLmCFX3Epo3Zg.jpeg)\n",
    "\n",
    "Just kidding - not actual literal pandas."
   ]
  },
  {
   "cell_type": "markdown",
   "metadata": {
    "hidden": true
   },
   "source": [
    "Pandas, as [the Anaconda docs](https://docs.anaconda.com/anaconda/packages/py3.7_osx-64/) tell us, offers us \"High-performance, easy-to-use data structures and data analysis tools.\" It's something like \"Excel for Python\", but it's quite a bit more powerful. The name comes from \"panel data\", a common way to describe the kind of multidimensional data we'll be working with in certain academic circles (namely, statistics and econometrics) [[Source]](https://www.dlr.de/sc/Portaldata/15/Resources/dokumente/pyhpc2011/submissions/pyhpc2011_submission_9.pdf)\n",
    "\n",
    "In order to use pandas, we'll need to import it into our notebook first."
   ]
  },
  {
   "cell_type": "code",
   "execution_count": 35,
   "metadata": {},
   "outputs": [],
   "source": [
    "# Import - using the common alias\n",
    "import pandas as pd"
   ]
  },
  {
   "cell_type": "markdown",
   "metadata": {
    "hidden": true
   },
   "source": [
    "## Accessing Data\n",
    "\n",
    "![pandas documentation image showcasing the kinds of data it can both read and write to](https://pandas.pydata.org/docs/_images/02_io_readwrite.svg)\n",
    "\n",
    "[[Image Source]](https://pandas.pydata.org/docs/getting_started/intro_tutorials/02_read_write.html)"
   ]
  },
  {
   "cell_type": "markdown",
   "metadata": {},
   "source": [
    "Pandas can access a ton of different data types, including some that should be familiar: CSVs and JSONs! That's right, no more `with` / `open` statements now that we're using pandas!\n",
    "\n",
    "Most of the time, we'll see CSVs - so let's access a 'toy' data set quickly just to familiarize ourselves with using pandas. There's a heart dataset available in the data folder on this repository - let's read that in."
   ]
  },
  {
   "cell_type": "code",
   "execution_count": 36,
   "metadata": {
    "hidden": true
   },
   "outputs": [],
   "source": [
    "# Use read_csv to read in the heart csv file\n",
    "# Need to assign it to a variable too - let's call this heart_df\n",
    "heart_df = pd.read_csv('data/heart.csv', sep=',')"
   ]
  },
  {
   "cell_type": "markdown",
   "metadata": {},
   "source": [
    "Find out more about this dataset [here](https://archive.ics.uci.edu/ml/datasets/Statlog+%28Heart%29)."
   ]
  },
  {
   "cell_type": "markdown",
   "metadata": {
    "hidden": true
   },
   "source": [
    "The output of the `.read_csv()` function is a pandas *DataFrame*, which has a familiar tabaular structure of rows and columns."
   ]
  },
  {
   "cell_type": "code",
   "execution_count": 37,
   "metadata": {
    "hidden": true
   },
   "outputs": [
    {
     "data": {
      "text/html": [
       "<div>\n",
       "<style scoped>\n",
       "    .dataframe tbody tr th:only-of-type {\n",
       "        vertical-align: middle;\n",
       "    }\n",
       "\n",
       "    .dataframe tbody tr th {\n",
       "        vertical-align: top;\n",
       "    }\n",
       "\n",
       "    .dataframe thead th {\n",
       "        text-align: right;\n",
       "    }\n",
       "</style>\n",
       "<table border=\"1\" class=\"dataframe\">\n",
       "  <thead>\n",
       "    <tr style=\"text-align: right;\">\n",
       "      <th></th>\n",
       "      <th>age</th>\n",
       "      <th>sex</th>\n",
       "      <th>cp</th>\n",
       "      <th>trestbps</th>\n",
       "      <th>chol</th>\n",
       "      <th>fbs</th>\n",
       "      <th>restecg</th>\n",
       "      <th>thalach</th>\n",
       "      <th>exang</th>\n",
       "      <th>oldpeak</th>\n",
       "      <th>slope</th>\n",
       "      <th>ca</th>\n",
       "      <th>thal</th>\n",
       "      <th>target</th>\n",
       "    </tr>\n",
       "  </thead>\n",
       "  <tbody>\n",
       "    <tr>\n",
       "      <th>0</th>\n",
       "      <td>63</td>\n",
       "      <td>1</td>\n",
       "      <td>3</td>\n",
       "      <td>145</td>\n",
       "      <td>233</td>\n",
       "      <td>1</td>\n",
       "      <td>0</td>\n",
       "      <td>150</td>\n",
       "      <td>0</td>\n",
       "      <td>2.3</td>\n",
       "      <td>0</td>\n",
       "      <td>0</td>\n",
       "      <td>1</td>\n",
       "      <td>1</td>\n",
       "    </tr>\n",
       "    <tr>\n",
       "      <th>1</th>\n",
       "      <td>37</td>\n",
       "      <td>1</td>\n",
       "      <td>2</td>\n",
       "      <td>130</td>\n",
       "      <td>250</td>\n",
       "      <td>0</td>\n",
       "      <td>1</td>\n",
       "      <td>187</td>\n",
       "      <td>0</td>\n",
       "      <td>3.5</td>\n",
       "      <td>0</td>\n",
       "      <td>0</td>\n",
       "      <td>2</td>\n",
       "      <td>1</td>\n",
       "    </tr>\n",
       "    <tr>\n",
       "      <th>2</th>\n",
       "      <td>41</td>\n",
       "      <td>0</td>\n",
       "      <td>1</td>\n",
       "      <td>130</td>\n",
       "      <td>204</td>\n",
       "      <td>0</td>\n",
       "      <td>0</td>\n",
       "      <td>172</td>\n",
       "      <td>0</td>\n",
       "      <td>1.4</td>\n",
       "      <td>2</td>\n",
       "      <td>0</td>\n",
       "      <td>2</td>\n",
       "      <td>1</td>\n",
       "    </tr>\n",
       "    <tr>\n",
       "      <th>3</th>\n",
       "      <td>56</td>\n",
       "      <td>1</td>\n",
       "      <td>1</td>\n",
       "      <td>120</td>\n",
       "      <td>236</td>\n",
       "      <td>0</td>\n",
       "      <td>1</td>\n",
       "      <td>178</td>\n",
       "      <td>0</td>\n",
       "      <td>0.8</td>\n",
       "      <td>2</td>\n",
       "      <td>0</td>\n",
       "      <td>2</td>\n",
       "      <td>1</td>\n",
       "    </tr>\n",
       "    <tr>\n",
       "      <th>4</th>\n",
       "      <td>57</td>\n",
       "      <td>0</td>\n",
       "      <td>0</td>\n",
       "      <td>120</td>\n",
       "      <td>354</td>\n",
       "      <td>0</td>\n",
       "      <td>1</td>\n",
       "      <td>163</td>\n",
       "      <td>1</td>\n",
       "      <td>0.6</td>\n",
       "      <td>2</td>\n",
       "      <td>0</td>\n",
       "      <td>2</td>\n",
       "      <td>1</td>\n",
       "    </tr>\n",
       "    <tr>\n",
       "      <th>...</th>\n",
       "      <td>...</td>\n",
       "      <td>...</td>\n",
       "      <td>...</td>\n",
       "      <td>...</td>\n",
       "      <td>...</td>\n",
       "      <td>...</td>\n",
       "      <td>...</td>\n",
       "      <td>...</td>\n",
       "      <td>...</td>\n",
       "      <td>...</td>\n",
       "      <td>...</td>\n",
       "      <td>...</td>\n",
       "      <td>...</td>\n",
       "      <td>...</td>\n",
       "    </tr>\n",
       "    <tr>\n",
       "      <th>298</th>\n",
       "      <td>57</td>\n",
       "      <td>0</td>\n",
       "      <td>0</td>\n",
       "      <td>140</td>\n",
       "      <td>241</td>\n",
       "      <td>0</td>\n",
       "      <td>1</td>\n",
       "      <td>123</td>\n",
       "      <td>1</td>\n",
       "      <td>0.2</td>\n",
       "      <td>1</td>\n",
       "      <td>0</td>\n",
       "      <td>3</td>\n",
       "      <td>0</td>\n",
       "    </tr>\n",
       "    <tr>\n",
       "      <th>299</th>\n",
       "      <td>45</td>\n",
       "      <td>1</td>\n",
       "      <td>3</td>\n",
       "      <td>110</td>\n",
       "      <td>264</td>\n",
       "      <td>0</td>\n",
       "      <td>1</td>\n",
       "      <td>132</td>\n",
       "      <td>0</td>\n",
       "      <td>1.2</td>\n",
       "      <td>1</td>\n",
       "      <td>0</td>\n",
       "      <td>3</td>\n",
       "      <td>0</td>\n",
       "    </tr>\n",
       "    <tr>\n",
       "      <th>300</th>\n",
       "      <td>68</td>\n",
       "      <td>1</td>\n",
       "      <td>0</td>\n",
       "      <td>144</td>\n",
       "      <td>193</td>\n",
       "      <td>1</td>\n",
       "      <td>1</td>\n",
       "      <td>141</td>\n",
       "      <td>0</td>\n",
       "      <td>3.4</td>\n",
       "      <td>1</td>\n",
       "      <td>2</td>\n",
       "      <td>3</td>\n",
       "      <td>0</td>\n",
       "    </tr>\n",
       "    <tr>\n",
       "      <th>301</th>\n",
       "      <td>57</td>\n",
       "      <td>1</td>\n",
       "      <td>0</td>\n",
       "      <td>130</td>\n",
       "      <td>131</td>\n",
       "      <td>0</td>\n",
       "      <td>1</td>\n",
       "      <td>115</td>\n",
       "      <td>1</td>\n",
       "      <td>1.2</td>\n",
       "      <td>1</td>\n",
       "      <td>1</td>\n",
       "      <td>3</td>\n",
       "      <td>0</td>\n",
       "    </tr>\n",
       "    <tr>\n",
       "      <th>302</th>\n",
       "      <td>57</td>\n",
       "      <td>0</td>\n",
       "      <td>1</td>\n",
       "      <td>130</td>\n",
       "      <td>236</td>\n",
       "      <td>0</td>\n",
       "      <td>0</td>\n",
       "      <td>174</td>\n",
       "      <td>0</td>\n",
       "      <td>0.0</td>\n",
       "      <td>1</td>\n",
       "      <td>1</td>\n",
       "      <td>2</td>\n",
       "      <td>0</td>\n",
       "    </tr>\n",
       "  </tbody>\n",
       "</table>\n",
       "<p>303 rows × 14 columns</p>\n",
       "</div>"
      ],
      "text/plain": [
       "     age  sex  cp  trestbps  chol  fbs  restecg  thalach  exang  oldpeak  \\\n",
       "0     63    1   3       145   233    1        0      150      0      2.3   \n",
       "1     37    1   2       130   250    0        1      187      0      3.5   \n",
       "2     41    0   1       130   204    0        0      172      0      1.4   \n",
       "3     56    1   1       120   236    0        1      178      0      0.8   \n",
       "4     57    0   0       120   354    0        1      163      1      0.6   \n",
       "..   ...  ...  ..       ...   ...  ...      ...      ...    ...      ...   \n",
       "298   57    0   0       140   241    0        1      123      1      0.2   \n",
       "299   45    1   3       110   264    0        1      132      0      1.2   \n",
       "300   68    1   0       144   193    1        1      141      0      3.4   \n",
       "301   57    1   0       130   131    0        1      115      1      1.2   \n",
       "302   57    0   1       130   236    0        0      174      0      0.0   \n",
       "\n",
       "     slope  ca  thal  target  \n",
       "0        0   0     1       1  \n",
       "1        0   0     2       1  \n",
       "2        2   0     2       1  \n",
       "3        2   0     2       1  \n",
       "4        2   0     2       1  \n",
       "..     ...  ..   ...     ...  \n",
       "298      1   0     3       0  \n",
       "299      1   0     3       0  \n",
       "300      1   2     3       0  \n",
       "301      1   1     3       0  \n",
       "302      1   1     2       0  \n",
       "\n",
       "[303 rows x 14 columns]"
      ]
     },
     "execution_count": 37,
     "metadata": {},
     "output_type": "execute_result"
    }
   ],
   "source": [
    "# Let's check this variable out\n",
    "heart_df"
   ]
  },
  {
   "cell_type": "code",
   "execution_count": 38,
   "metadata": {
    "hidden": true
   },
   "outputs": [
    {
     "data": {
      "text/plain": [
       "pandas.core.frame.DataFrame"
      ]
     },
     "execution_count": 38,
     "metadata": {},
     "output_type": "execute_result"
    }
   ],
   "source": [
    "# What type is this variable?\n",
    "type(heart_df)"
   ]
  },
  {
   "cell_type": "markdown",
   "metadata": {
    "heading_collapsed": true,
    "hidden": true
   },
   "source": [
    "## DataFrames and Series"
   ]
  },
  {
   "cell_type": "markdown",
   "metadata": {
    "hidden": true
   },
   "source": [
    "Two main types of pandas objects are the DataFrame and the Series, the latter being in effect a single column of the former:"
   ]
  },
  {
   "cell_type": "code",
   "execution_count": 39,
   "metadata": {
    "hidden": true
   },
   "outputs": [],
   "source": [
    "# Let's grab just one column\n",
    "age_series = heart_df['age']"
   ]
  },
  {
   "cell_type": "markdown",
   "metadata": {
    "hidden": true
   },
   "source": [
    "Notice how we can isolate a column of our DataFrame simply by using square brackets together with the name of the column. We can also access columns as an attribute of the DataFrame - but that only works if the name of the column doesn't have any spaces or weird characters!"
   ]
  },
  {
   "cell_type": "code",
   "execution_count": 40,
   "metadata": {},
   "outputs": [
    {
     "data": {
      "text/plain": [
       "0      63\n",
       "1      37\n",
       "2      41\n",
       "3      56\n",
       "4      57\n",
       "       ..\n",
       "298    57\n",
       "299    45\n",
       "300    68\n",
       "301    57\n",
       "302    57\n",
       "Name: age, Length: 303, dtype: int64"
      ]
     },
     "execution_count": 40,
     "metadata": {},
     "output_type": "execute_result"
    }
   ],
   "source": [
    "heart_df.age"
   ]
  },
  {
   "cell_type": "code",
   "execution_count": 41,
   "metadata": {},
   "outputs": [
    {
     "data": {
      "text/plain": [
       "pandas.core.series.Series"
      ]
     },
     "execution_count": 41,
     "metadata": {},
     "output_type": "execute_result"
    }
   ],
   "source": [
    "# What type is the column?\n",
    "type(age_series)"
   ]
  },
  {
   "cell_type": "markdown",
   "metadata": {
    "hidden": true
   },
   "source": [
    "Both Series and DataFrames have an *index* as well:"
   ]
  },
  {
   "cell_type": "code",
   "execution_count": 42,
   "metadata": {
    "hidden": true
   },
   "outputs": [
    {
     "data": {
      "text/plain": [
       "RangeIndex(start=0, stop=303, step=1)"
      ]
     },
     "execution_count": 42,
     "metadata": {},
     "output_type": "execute_result"
    }
   ],
   "source": [
    "heart_df.index"
   ]
  },
  {
   "cell_type": "code",
   "execution_count": 43,
   "metadata": {
    "hidden": true
   },
   "outputs": [
    {
     "data": {
      "text/plain": [
       "RangeIndex(start=0, stop=303, step=1)"
      ]
     },
     "execution_count": 43,
     "metadata": {},
     "output_type": "execute_result"
    }
   ],
   "source": [
    "age_series.index"
   ]
  },
  {
   "cell_type": "markdown",
   "metadata": {},
   "source": [
    "DataFrames have columns - but a Series is just a single column, so it doesn't have the columns attribute."
   ]
  },
  {
   "cell_type": "code",
   "execution_count": 44,
   "metadata": {},
   "outputs": [
    {
     "data": {
      "text/plain": [
       "Index(['age', 'sex', 'cp', 'trestbps', 'chol', 'fbs', 'restecg', 'thalach',\n",
       "       'exang', 'oldpeak', 'slope', 'ca', 'thal', 'target'],\n",
       "      dtype='object')"
      ]
     },
     "execution_count": 44,
     "metadata": {},
     "output_type": "execute_result"
    }
   ],
   "source": [
    "heart_df.columns"
   ]
  },
  {
   "cell_type": "code",
   "execution_count": 45,
   "metadata": {},
   "outputs": [
    {
     "ename": "AttributeError",
     "evalue": "'Series' object has no attribute 'columns'",
     "output_type": "error",
     "traceback": [
      "\u001b[0;31m---------------------------------------------------------------------------\u001b[0m",
      "\u001b[0;31mAttributeError\u001b[0m                            Traceback (most recent call last)",
      "\u001b[0;32m/var/folders/4f/cr2zm2px70q9hrgj23zmw7_r0000gn/T/ipykernel_50694/2265561941.py\u001b[0m in \u001b[0;36m?\u001b[0;34m()\u001b[0m\n\u001b[0;32m----> 1\u001b[0;31m \u001b[0mage_series\u001b[0m\u001b[0;34m.\u001b[0m\u001b[0mcolumns\u001b[0m\u001b[0;34m\u001b[0m\u001b[0;34m\u001b[0m\u001b[0m\n\u001b[0m\u001b[1;32m      2\u001b[0m \u001b[0;31m# This will throw an error!\u001b[0m\u001b[0;34m\u001b[0m\u001b[0;34m\u001b[0m\u001b[0m\n",
      "\u001b[0;32m/opt/anaconda3/lib/python3.12/site-packages/pandas/core/generic.py\u001b[0m in \u001b[0;36m?\u001b[0;34m(self, name)\u001b[0m\n\u001b[1;32m   6295\u001b[0m             \u001b[0;32mand\u001b[0m \u001b[0mname\u001b[0m \u001b[0;32mnot\u001b[0m \u001b[0;32min\u001b[0m \u001b[0mself\u001b[0m\u001b[0;34m.\u001b[0m\u001b[0m_accessors\u001b[0m\u001b[0;34m\u001b[0m\u001b[0;34m\u001b[0m\u001b[0m\n\u001b[1;32m   6296\u001b[0m             \u001b[0;32mand\u001b[0m \u001b[0mself\u001b[0m\u001b[0;34m.\u001b[0m\u001b[0m_info_axis\u001b[0m\u001b[0;34m.\u001b[0m\u001b[0m_can_hold_identifiers_and_holds_name\u001b[0m\u001b[0;34m(\u001b[0m\u001b[0mname\u001b[0m\u001b[0;34m)\u001b[0m\u001b[0;34m\u001b[0m\u001b[0;34m\u001b[0m\u001b[0m\n\u001b[1;32m   6297\u001b[0m         \u001b[0;34m)\u001b[0m\u001b[0;34m:\u001b[0m\u001b[0;34m\u001b[0m\u001b[0;34m\u001b[0m\u001b[0m\n\u001b[1;32m   6298\u001b[0m             \u001b[0;32mreturn\u001b[0m \u001b[0mself\u001b[0m\u001b[0;34m[\u001b[0m\u001b[0mname\u001b[0m\u001b[0;34m]\u001b[0m\u001b[0;34m\u001b[0m\u001b[0;34m\u001b[0m\u001b[0m\n\u001b[0;32m-> 6299\u001b[0;31m         \u001b[0;32mreturn\u001b[0m \u001b[0mobject\u001b[0m\u001b[0;34m.\u001b[0m\u001b[0m__getattribute__\u001b[0m\u001b[0;34m(\u001b[0m\u001b[0mself\u001b[0m\u001b[0;34m,\u001b[0m \u001b[0mname\u001b[0m\u001b[0;34m)\u001b[0m\u001b[0;34m\u001b[0m\u001b[0;34m\u001b[0m\u001b[0m\n\u001b[0m",
      "\u001b[0;31mAttributeError\u001b[0m: 'Series' object has no attribute 'columns'"
     ]
    }
   ],
   "source": [
    "age_series.columns\n",
    "# This will throw an error!"
   ]
  },
  {
   "cell_type": "markdown",
   "metadata": {
    "hidden": true
   },
   "source": [
    "Pandas is built on top of NumPy, and we can always access the NumPy array underlying a DataFrame using `.values`."
   ]
  },
  {
   "cell_type": "code",
   "execution_count": null,
   "metadata": {
    "hidden": true,
    "scrolled": true
   },
   "outputs": [],
   "source": [
    "heart_df.values"
   ]
  },
  {
   "cell_type": "markdown",
   "metadata": {
    "heading_collapsed": true,
    "hidden": true
   },
   "source": [
    "## Basic DataFrame Attributes and Methods"
   ]
  },
  {
   "cell_type": "markdown",
   "metadata": {
    "heading_collapsed": true,
    "hidden": true
   },
   "source": [
    "### `.head()` : first 5 rows"
   ]
  },
  {
   "cell_type": "code",
   "execution_count": null,
   "metadata": {
    "hidden": true
   },
   "outputs": [],
   "source": [
    "heart_df.head()"
   ]
  },
  {
   "cell_type": "markdown",
   "metadata": {
    "heading_collapsed": true,
    "hidden": true
   },
   "source": [
    "### `.tail()` : last 5 rows"
   ]
  },
  {
   "cell_type": "code",
   "execution_count": null,
   "metadata": {
    "hidden": true
   },
   "outputs": [],
   "source": [
    "heart_df.tail()"
   ]
  },
  {
   "cell_type": "markdown",
   "metadata": {
    "heading_collapsed": true,
    "hidden": true
   },
   "source": [
    "### `.info()` : information about the columns, including about nulls in those columns"
   ]
  },
  {
   "cell_type": "code",
   "execution_count": null,
   "metadata": {
    "hidden": true
   },
   "outputs": [],
   "source": [
    "heart_df.info()"
   ]
  },
  {
   "cell_type": "markdown",
   "metadata": {
    "heading_collapsed": true,
    "hidden": true
   },
   "source": [
    "### `.describe()` : statistics about the data"
   ]
  },
  {
   "cell_type": "code",
   "execution_count": null,
   "metadata": {
    "hidden": true,
    "scrolled": true
   },
   "outputs": [],
   "source": [
    "heart_df.describe()"
   ]
  },
  {
   "cell_type": "markdown",
   "metadata": {
    "heading_collapsed": true,
    "hidden": true
   },
   "source": [
    "### `.dtypes` : data types of each column"
   ]
  },
  {
   "cell_type": "code",
   "execution_count": null,
   "metadata": {
    "hidden": true
   },
   "outputs": [],
   "source": [
    "heart_df.dtypes"
   ]
  },
  {
   "cell_type": "markdown",
   "metadata": {
    "heading_collapsed": true,
    "hidden": true
   },
   "source": [
    "### `.shape` : number of rows and columns"
   ]
  },
  {
   "cell_type": "code",
   "execution_count": null,
   "metadata": {
    "hidden": true,
    "scrolled": true
   },
   "outputs": [],
   "source": [
    "heart_df.shape"
   ]
  },
  {
   "cell_type": "markdown",
   "metadata": {},
   "source": [
    "### Statistics\n",
    "\n",
    "We saw them above, in the `.describe`, but we can also calculate statistics by calling them individually."
   ]
  },
  {
   "cell_type": "code",
   "execution_count": null,
   "metadata": {},
   "outputs": [],
   "source": [
    "# Calculate the mean - for the whole dataframe!\n",
    "heart_df.mean()"
   ]
  },
  {
   "cell_type": "code",
   "execution_count": null,
   "metadata": {},
   "outputs": [],
   "source": [
    "# Now min\n",
    "heart_df.min()"
   ]
  },
  {
   "cell_type": "code",
   "execution_count": null,
   "metadata": {},
   "outputs": [],
   "source": [
    "# And max\n",
    "heart_df.max()"
   ]
  },
  {
   "cell_type": "markdown",
   "metadata": {},
   "source": [
    "## Enough With The Small Stuff - Bring On Real Data!\n",
    "\n",
    "Let's access an open data portal and get some real live data!"
   ]
  },
  {
   "cell_type": "markdown",
   "metadata": {},
   "source": [
    "Austin Animal Center Intake Data: https://data.austintexas.gov/Health-and-Community-Services/Austin-Animal-Center-Intakes/wter-evkm/"
   ]
  },
  {
   "cell_type": "code",
   "execution_count": null,
   "metadata": {},
   "outputs": [],
   "source": [
    "# Accessing a CSV from a url\n",
    "intakes_url = pd.read_csv('https://data.austintexas.gov/resource/wter-evkm.csv')\n",
    "intakes_url.head()"
   ]
  },
  {
   "cell_type": "code",
   "execution_count": null,
   "metadata": {},
   "outputs": [],
   "source": [
    "# Same as the JSON output from this API endpoint, but different levels of detail for dates!\n",
    "pd.read_json('https://data.austintexas.gov/resource/wter-evkm.json').head()"
   ]
  },
  {
   "cell_type": "code",
   "execution_count": null,
   "metadata": {},
   "outputs": [],
   "source": [
    "# But this is only 1000 rows... website says there's 136K rows!\n",
    "intakes_url.shape"
   ]
  },
  {
   "cell_type": "code",
   "execution_count": null,
   "metadata": {},
   "outputs": [],
   "source": [
    "# It's a limitation of the API - let's just download the data instead\n",
    "# It's in the data folder\n",
    "df = pd.read_csv('data/Austin_Animal_Center_Intakes-clean-year.csv')"
   ]
  },
  {
   "cell_type": "code",
   "execution_count": null,
   "metadata": {},
   "outputs": [],
   "source": [
    "# Now let's explore those earlier attributes and methods on this dataset!\n",
    "# Check the first 5 rows\n",
    "df.head()"
   ]
  },
  {
   "cell_type": "code",
   "execution_count": null,
   "metadata": {},
   "outputs": [],
   "source": [
    "# Check the last 5 rows\n",
    "df.tail()"
   ]
  },
  {
   "cell_type": "code",
   "execution_count": null,
   "metadata": {},
   "outputs": [],
   "source": [
    "# Check the shape\n",
    "df.shape"
   ]
  },
  {
   "cell_type": "code",
   "execution_count": null,
   "metadata": {},
   "outputs": [],
   "source": [
    "# Check the datatypes\n",
    "df.dtypes"
   ]
  },
  {
   "cell_type": "code",
   "execution_count": null,
   "metadata": {},
   "outputs": [],
   "source": [
    "# Check more general information on the dataframe\n",
    "df.info()"
   ]
  },
  {
   "cell_type": "code",
   "execution_count": null,
   "metadata": {},
   "outputs": [],
   "source": [
    "# Check summary/descriptive statistics on the dataframe\n",
    "df.describe()"
   ]
  },
  {
   "cell_type": "markdown",
   "metadata": {},
   "source": [
    "#### Any Observations?\n",
    "\n",
    "- Just shows the 'Year' column - it's the only numeric column!"
   ]
  },
  {
   "cell_type": "code",
   "execution_count": null,
   "metadata": {},
   "outputs": [],
   "source": [
    "# We can run describe on just the string columns! Gives a different kind of output\n",
    "df.describe(include=[object])"
   ]
  },
  {
   "cell_type": "code",
   "execution_count": null,
   "metadata": {},
   "outputs": [],
   "source": [
    "test_series = df['Age upon Intake']\n",
    "unique = test_series.unique\n",
    "counts = test_series.value_counts\n",
    "\n",
    "counts\n",
    "unique"
   ]
  },
  {
   "cell_type": "code",
   "execution_count": 46,
   "metadata": {},
   "outputs": [
    {
     "data": {
      "text/plain": [
       "{'Bird', 'Cat', 'Dog', 'Livestock', 'Other'}"
      ]
     },
     "execution_count": 46,
     "metadata": {},
     "output_type": "execute_result"
    }
   ],
   "source": [
    "test_series = df['Animal Type']\n",
    "unique_set = set(test_series)\n",
    "\n",
    "unique_set"
   ]
  },
  {
   "cell_type": "code",
   "execution_count": 47,
   "metadata": {},
   "outputs": [
    {
     "ename": "NameError",
     "evalue": "name 'df_augmented' is not defined",
     "output_type": "error",
     "traceback": [
      "\u001b[0;31m---------------------------------------------------------------------------\u001b[0m",
      "\u001b[0;31mNameError\u001b[0m                                 Traceback (most recent call last)",
      "Cell \u001b[0;32mIn[47], line 2\u001b[0m\n\u001b[1;32m      1\u001b[0m \u001b[38;5;66;03m#gets all the 'other' animals \u001b[39;00m\n\u001b[0;32m----> 2\u001b[0m other_animals \u001b[38;5;241m=\u001b[39m df_augmented\u001b[38;5;241m.\u001b[39mloc[df_augmented[\u001b[38;5;124m'\u001b[39m\u001b[38;5;124mAnimal Type\u001b[39m\u001b[38;5;124m'\u001b[39m] \u001b[38;5;241m==\u001b[39m \u001b[38;5;124m'\u001b[39m\u001b[38;5;124mOther\u001b[39m\u001b[38;5;124m'\u001b[39m]\n\u001b[1;32m      3\u001b[0m other_animals\n",
      "\u001b[0;31mNameError\u001b[0m: name 'df_augmented' is not defined"
     ]
    }
   ],
   "source": [
    "#gets all the 'other' animals \n",
    "other_animals = df_augmented.loc[df_augmented['Animal Type'] == 'Other']\n",
    "other_animals\n"
   ]
  },
  {
   "cell_type": "code",
   "execution_count": 48,
   "metadata": {},
   "outputs": [
    {
     "ename": "NameError",
     "evalue": "name 'other_animals' is not defined",
     "output_type": "error",
     "traceback": [
      "\u001b[0;31m---------------------------------------------------------------------------\u001b[0m",
      "\u001b[0;31mNameError\u001b[0m                                 Traceback (most recent call last)",
      "Cell \u001b[0;32mIn[48], line 2\u001b[0m\n\u001b[1;32m      1\u001b[0m \u001b[38;5;66;03m#prints unique species by getting a series \u001b[39;00m\n\u001b[0;32m----> 2\u001b[0m series_other \u001b[38;5;241m=\u001b[39m other_animals[\u001b[38;5;124m'\u001b[39m\u001b[38;5;124mBreed\u001b[39m\u001b[38;5;124m'\u001b[39m]\n\u001b[1;32m      3\u001b[0m \u001b[38;5;28mset\u001b[39m(series_other)\n",
      "\u001b[0;31mNameError\u001b[0m: name 'other_animals' is not defined"
     ]
    }
   ],
   "source": [
    "#prints unique species by getting a series \n",
    "series_other = other_animals['Breed']\n",
    "set(series_other)"
   ]
  },
  {
   "cell_type": "markdown",
   "metadata": {},
   "source": [
    "#### Any Observations?\n",
    "\n",
    "- Can see non-null counts, number of uniques, plus the most frequent and how frequent it is\n",
    "- Showcases the different kind of useful data you can explore when it's object vs numeric columns"
   ]
  },
  {
   "cell_type": "markdown",
   "metadata": {
    "heading_collapsed": true
   },
   "source": [
    "## Adding to a DataFrame"
   ]
  },
  {
   "cell_type": "markdown",
   "metadata": {
    "heading_collapsed": true,
    "hidden": true
   },
   "source": [
    "### Adding Rows"
   ]
  },
  {
   "cell_type": "markdown",
   "metadata": {
    "hidden": true
   },
   "source": [
    "We have a new animal coming in, captured here in a Python dictionary:"
   ]
  },
  {
   "cell_type": "code",
   "execution_count": 49,
   "metadata": {
    "hidden": true
   },
   "outputs": [
    {
     "data": {
      "text/plain": [
       "{'Animal ID': ['A851755'],\n",
       " 'Name': [\"T'Challa\"],\n",
       " 'DateTime': ['2/28/2022 11:25:00 AM'],\n",
       " 'Year': [2022],\n",
       " 'Found Location': ['Houston (TX)'],\n",
       " 'Intake Type': ['Public Assist'],\n",
       " 'Intake Condition': ['Normal'],\n",
       " 'Animal Type': ['Cat'],\n",
       " 'Sex upon Intake': ['Neutered Male'],\n",
       " 'Age upon Intake': ['4 years'],\n",
       " 'Breed': ['Domestic Shorthair'],\n",
       " 'Color': ['Black']}"
      ]
     },
     "execution_count": 49,
     "metadata": {},
     "output_type": "execute_result"
    }
   ],
   "source": [
    "# Dictionary, where keys match the column names and values are the row values\n",
    "# Note that the values are list-like - you could easily add more rows by adding to the lists!\n",
    "next_row = {\n",
    "    'Animal ID': ['A851755'],\n",
    "    'Name': [\"T'Challa\"],\n",
    "    'DateTime': ['2/28/2022 11:25:00 AM'],\n",
    "    'Year': [2022],\n",
    "    'Found Location': ['Houston (TX)'],\n",
    "    'Intake Type': ['Public Assist'],\n",
    "    'Intake Condition': ['Normal'],\n",
    "    'Animal Type': ['Cat'],\n",
    "    'Sex upon Intake': ['Neutered Male'],\n",
    "    'Age upon Intake': ['4 years'],\n",
    "    'Breed': ['Domestic Shorthair'],\n",
    "    'Color': ['Black']\n",
    "}\n",
    "next_row"
   ]
  },
  {
   "cell_type": "markdown",
   "metadata": {
    "hidden": true
   },
   "source": [
    "How can we add this to the bottom of our dataset?"
   ]
  },
  {
   "cell_type": "code",
   "execution_count": 50,
   "metadata": {
    "hidden": true
   },
   "outputs": [
    {
     "data": {
      "text/html": [
       "<div>\n",
       "<style scoped>\n",
       "    .dataframe tbody tr th:only-of-type {\n",
       "        vertical-align: middle;\n",
       "    }\n",
       "\n",
       "    .dataframe tbody tr th {\n",
       "        vertical-align: top;\n",
       "    }\n",
       "\n",
       "    .dataframe thead th {\n",
       "        text-align: right;\n",
       "    }\n",
       "</style>\n",
       "<table border=\"1\" class=\"dataframe\">\n",
       "  <thead>\n",
       "    <tr style=\"text-align: right;\">\n",
       "      <th></th>\n",
       "      <th>Animal ID</th>\n",
       "      <th>Name</th>\n",
       "      <th>DateTime</th>\n",
       "      <th>Year</th>\n",
       "      <th>Found Location</th>\n",
       "      <th>Intake Type</th>\n",
       "      <th>Intake Condition</th>\n",
       "      <th>Animal Type</th>\n",
       "      <th>Sex upon Intake</th>\n",
       "      <th>Age upon Intake</th>\n",
       "      <th>Breed</th>\n",
       "      <th>Color</th>\n",
       "    </tr>\n",
       "  </thead>\n",
       "  <tbody>\n",
       "    <tr>\n",
       "      <th>0</th>\n",
       "      <td>A851755</td>\n",
       "      <td>T'Challa</td>\n",
       "      <td>2/28/2022 11:25:00 AM</td>\n",
       "      <td>2022</td>\n",
       "      <td>Houston (TX)</td>\n",
       "      <td>Public Assist</td>\n",
       "      <td>Normal</td>\n",
       "      <td>Cat</td>\n",
       "      <td>Neutered Male</td>\n",
       "      <td>4 years</td>\n",
       "      <td>Domestic Shorthair</td>\n",
       "      <td>Black</td>\n",
       "    </tr>\n",
       "  </tbody>\n",
       "</table>\n",
       "</div>"
      ],
      "text/plain": [
       "  Animal ID      Name               DateTime  Year Found Location  \\\n",
       "0   A851755  T'Challa  2/28/2022 11:25:00 AM  2022   Houston (TX)   \n",
       "\n",
       "     Intake Type Intake Condition Animal Type Sex upon Intake Age upon Intake  \\\n",
       "0  Public Assist           Normal         Cat   Neutered Male         4 years   \n",
       "\n",
       "                Breed  Color  \n",
       "0  Domestic Shorthair  Black  "
      ]
     },
     "execution_count": 50,
     "metadata": {},
     "output_type": "execute_result"
    }
   ],
   "source": [
    "# Let's first turn this into a DataFrame.\n",
    "# We can use the .from_dict() method.\n",
    "\n",
    "new_animal = pd.DataFrame.from_dict(next_row)\n",
    "new_animal"
   ]
  },
  {
   "cell_type": "code",
   "execution_count": 51,
   "metadata": {
    "hidden": true
   },
   "outputs": [],
   "source": [
    "# Now we just need to concatenate the two DataFrames together.\n",
    "# Note the `ignore_index` parameter! We'll set that to True.\n",
    "\n",
    "df_augmented = pd.concat([df, new_animal],\n",
    "                         ignore_index=True)"
   ]
  },
  {
   "cell_type": "code",
   "execution_count": 52,
   "metadata": {
    "hidden": true
   },
   "outputs": [
    {
     "data": {
      "text/html": [
       "<div>\n",
       "<style scoped>\n",
       "    .dataframe tbody tr th:only-of-type {\n",
       "        vertical-align: middle;\n",
       "    }\n",
       "\n",
       "    .dataframe tbody tr th {\n",
       "        vertical-align: top;\n",
       "    }\n",
       "\n",
       "    .dataframe thead th {\n",
       "        text-align: right;\n",
       "    }\n",
       "</style>\n",
       "<table border=\"1\" class=\"dataframe\">\n",
       "  <thead>\n",
       "    <tr style=\"text-align: right;\">\n",
       "      <th></th>\n",
       "      <th>Animal ID</th>\n",
       "      <th>Name</th>\n",
       "      <th>DateTime</th>\n",
       "      <th>Year</th>\n",
       "      <th>Found Location</th>\n",
       "      <th>Intake Type</th>\n",
       "      <th>Intake Condition</th>\n",
       "      <th>Animal Type</th>\n",
       "      <th>Sex upon Intake</th>\n",
       "      <th>Age upon Intake</th>\n",
       "      <th>Breed</th>\n",
       "      <th>Color</th>\n",
       "    </tr>\n",
       "  </thead>\n",
       "  <tbody>\n",
       "    <tr>\n",
       "      <th>136759</th>\n",
       "      <td>A852221</td>\n",
       "      <td>Coco</td>\n",
       "      <td>2022-02-28 11:05:00</td>\n",
       "      <td>2022</td>\n",
       "      <td>45 And 183 in Travis (TX)</td>\n",
       "      <td>Stray</td>\n",
       "      <td>Normal</td>\n",
       "      <td>Dog</td>\n",
       "      <td>Intact Male</td>\n",
       "      <td>3 years</td>\n",
       "      <td>Great Pyrenees</td>\n",
       "      <td>White</td>\n",
       "    </tr>\n",
       "    <tr>\n",
       "      <th>136760</th>\n",
       "      <td>A851977</td>\n",
       "      <td>*Jack</td>\n",
       "      <td>2022-02-22 13:34:00</td>\n",
       "      <td>2022</td>\n",
       "      <td>1200 Montopolis Drive in Austin (TX)</td>\n",
       "      <td>Stray</td>\n",
       "      <td>Normal</td>\n",
       "      <td>Dog</td>\n",
       "      <td>Intact Male</td>\n",
       "      <td>2 years</td>\n",
       "      <td>Chihuahua Shorthair/Dachshund</td>\n",
       "      <td>Black/White</td>\n",
       "    </tr>\n",
       "    <tr>\n",
       "      <th>136761</th>\n",
       "      <td>A852127</td>\n",
       "      <td>Sonic</td>\n",
       "      <td>2022-02-25 13:05:00</td>\n",
       "      <td>2022</td>\n",
       "      <td>7601 Daffan Ln Unit 424 in Austin (TX)</td>\n",
       "      <td>Stray</td>\n",
       "      <td>Normal</td>\n",
       "      <td>Dog</td>\n",
       "      <td>Intact Male</td>\n",
       "      <td>2 years</td>\n",
       "      <td>Pit Bull Mix</td>\n",
       "      <td>White/Yellow</td>\n",
       "    </tr>\n",
       "    <tr>\n",
       "      <th>136762</th>\n",
       "      <td>A852194</td>\n",
       "      <td>Queen</td>\n",
       "      <td>2022-02-27 13:44:00</td>\n",
       "      <td>2022</td>\n",
       "      <td>8071 N Lamar Blvd in Austin (TX)</td>\n",
       "      <td>Stray</td>\n",
       "      <td>Normal</td>\n",
       "      <td>Dog</td>\n",
       "      <td>Intact Female</td>\n",
       "      <td>4 months</td>\n",
       "      <td>Cane Corso</td>\n",
       "      <td>Blue Cream</td>\n",
       "    </tr>\n",
       "    <tr>\n",
       "      <th>136763</th>\n",
       "      <td>A851755</td>\n",
       "      <td>T'Challa</td>\n",
       "      <td>2/28/2022 11:25:00 AM</td>\n",
       "      <td>2022</td>\n",
       "      <td>Houston (TX)</td>\n",
       "      <td>Public Assist</td>\n",
       "      <td>Normal</td>\n",
       "      <td>Cat</td>\n",
       "      <td>Neutered Male</td>\n",
       "      <td>4 years</td>\n",
       "      <td>Domestic Shorthair</td>\n",
       "      <td>Black</td>\n",
       "    </tr>\n",
       "  </tbody>\n",
       "</table>\n",
       "</div>"
      ],
      "text/plain": [
       "       Animal ID      Name               DateTime  Year  \\\n",
       "136759   A852221      Coco    2022-02-28 11:05:00  2022   \n",
       "136760   A851977     *Jack    2022-02-22 13:34:00  2022   \n",
       "136761   A852127     Sonic    2022-02-25 13:05:00  2022   \n",
       "136762   A852194     Queen    2022-02-27 13:44:00  2022   \n",
       "136763   A851755  T'Challa  2/28/2022 11:25:00 AM  2022   \n",
       "\n",
       "                                Found Location    Intake Type  \\\n",
       "136759               45 And 183 in Travis (TX)          Stray   \n",
       "136760    1200 Montopolis Drive in Austin (TX)          Stray   \n",
       "136761  7601 Daffan Ln Unit 424 in Austin (TX)          Stray   \n",
       "136762        8071 N Lamar Blvd in Austin (TX)          Stray   \n",
       "136763                            Houston (TX)  Public Assist   \n",
       "\n",
       "       Intake Condition Animal Type Sex upon Intake Age upon Intake  \\\n",
       "136759           Normal         Dog     Intact Male         3 years   \n",
       "136760           Normal         Dog     Intact Male         2 years   \n",
       "136761           Normal         Dog     Intact Male         2 years   \n",
       "136762           Normal         Dog   Intact Female        4 months   \n",
       "136763           Normal         Cat   Neutered Male         4 years   \n",
       "\n",
       "                                Breed         Color  \n",
       "136759                 Great Pyrenees         White  \n",
       "136760  Chihuahua Shorthair/Dachshund   Black/White  \n",
       "136761                   Pit Bull Mix  White/Yellow  \n",
       "136762                     Cane Corso    Blue Cream  \n",
       "136763             Domestic Shorthair         Black  "
      ]
     },
     "execution_count": 52,
     "metadata": {},
     "output_type": "execute_result"
    }
   ],
   "source": [
    "# Let's check the end to make sure we were successful!\n",
    "df_augmented.tail()"
   ]
  },
  {
   "cell_type": "markdown",
   "metadata": {
    "heading_collapsed": true,
    "hidden": true
   },
   "source": [
    "### Adding (and Deleting) Columns"
   ]
  },
  {
   "cell_type": "markdown",
   "metadata": {
    "hidden": true
   },
   "source": [
    "Adding a column is very easy in `pandas`. Let's add a new column to our dataset called \"test\", and set all of its values to 0."
   ]
  },
  {
   "cell_type": "code",
   "execution_count": 53,
   "metadata": {
    "hidden": true
   },
   "outputs": [],
   "source": [
    "# Create a new column, 'test', where every value in the col is 0\n",
    "df_augmented['test'] = 0"
   ]
  },
  {
   "cell_type": "code",
   "execution_count": 54,
   "metadata": {
    "hidden": true
   },
   "outputs": [
    {
     "data": {
      "text/html": [
       "<div>\n",
       "<style scoped>\n",
       "    .dataframe tbody tr th:only-of-type {\n",
       "        vertical-align: middle;\n",
       "    }\n",
       "\n",
       "    .dataframe tbody tr th {\n",
       "        vertical-align: top;\n",
       "    }\n",
       "\n",
       "    .dataframe thead th {\n",
       "        text-align: right;\n",
       "    }\n",
       "</style>\n",
       "<table border=\"1\" class=\"dataframe\">\n",
       "  <thead>\n",
       "    <tr style=\"text-align: right;\">\n",
       "      <th></th>\n",
       "      <th>Animal ID</th>\n",
       "      <th>Name</th>\n",
       "      <th>DateTime</th>\n",
       "      <th>Year</th>\n",
       "      <th>Found Location</th>\n",
       "      <th>Intake Type</th>\n",
       "      <th>Intake Condition</th>\n",
       "      <th>Animal Type</th>\n",
       "      <th>Sex upon Intake</th>\n",
       "      <th>Age upon Intake</th>\n",
       "      <th>Breed</th>\n",
       "      <th>Color</th>\n",
       "      <th>test</th>\n",
       "    </tr>\n",
       "  </thead>\n",
       "  <tbody>\n",
       "    <tr>\n",
       "      <th>0</th>\n",
       "      <td>A786884</td>\n",
       "      <td>*Brock</td>\n",
       "      <td>2019-01-03 16:19:00</td>\n",
       "      <td>2019</td>\n",
       "      <td>2501 Magin Meadow Dr in Austin (TX)</td>\n",
       "      <td>Stray</td>\n",
       "      <td>Normal</td>\n",
       "      <td>Dog</td>\n",
       "      <td>Neutered Male</td>\n",
       "      <td>2 years</td>\n",
       "      <td>Beagle Mix</td>\n",
       "      <td>Tricolor</td>\n",
       "      <td>0</td>\n",
       "    </tr>\n",
       "    <tr>\n",
       "      <th>1</th>\n",
       "      <td>A706918</td>\n",
       "      <td>Belle</td>\n",
       "      <td>2015-07-05 12:59:00</td>\n",
       "      <td>2015</td>\n",
       "      <td>9409 Bluegrass Dr in Austin (TX)</td>\n",
       "      <td>Stray</td>\n",
       "      <td>Normal</td>\n",
       "      <td>Dog</td>\n",
       "      <td>Spayed Female</td>\n",
       "      <td>8 years</td>\n",
       "      <td>English Springer Spaniel</td>\n",
       "      <td>White/Liver</td>\n",
       "      <td>0</td>\n",
       "    </tr>\n",
       "    <tr>\n",
       "      <th>2</th>\n",
       "      <td>A724273</td>\n",
       "      <td>Runster</td>\n",
       "      <td>2016-04-14 18:43:00</td>\n",
       "      <td>2016</td>\n",
       "      <td>2818 Palomino Trail in Austin (TX)</td>\n",
       "      <td>Stray</td>\n",
       "      <td>Normal</td>\n",
       "      <td>Dog</td>\n",
       "      <td>Intact Male</td>\n",
       "      <td>11 months</td>\n",
       "      <td>Basenji Mix</td>\n",
       "      <td>Sable/White</td>\n",
       "      <td>0</td>\n",
       "    </tr>\n",
       "    <tr>\n",
       "      <th>3</th>\n",
       "      <td>A665644</td>\n",
       "      <td>NaN</td>\n",
       "      <td>2013-10-21 07:59:00</td>\n",
       "      <td>2013</td>\n",
       "      <td>Austin (TX)</td>\n",
       "      <td>Stray</td>\n",
       "      <td>Sick</td>\n",
       "      <td>Cat</td>\n",
       "      <td>Intact Female</td>\n",
       "      <td>4 weeks</td>\n",
       "      <td>Domestic Shorthair Mix</td>\n",
       "      <td>Calico</td>\n",
       "      <td>0</td>\n",
       "    </tr>\n",
       "    <tr>\n",
       "      <th>4</th>\n",
       "      <td>A682524</td>\n",
       "      <td>Rio</td>\n",
       "      <td>2014-06-29 10:38:00</td>\n",
       "      <td>2014</td>\n",
       "      <td>800 Grove Blvd in Austin (TX)</td>\n",
       "      <td>Stray</td>\n",
       "      <td>Normal</td>\n",
       "      <td>Dog</td>\n",
       "      <td>Neutered Male</td>\n",
       "      <td>4 years</td>\n",
       "      <td>Doberman Pinsch/Australian Cattle Dog</td>\n",
       "      <td>Tan/Gray</td>\n",
       "      <td>0</td>\n",
       "    </tr>\n",
       "  </tbody>\n",
       "</table>\n",
       "</div>"
      ],
      "text/plain": [
       "  Animal ID     Name             DateTime  Year  \\\n",
       "0   A786884   *Brock  2019-01-03 16:19:00  2019   \n",
       "1   A706918    Belle  2015-07-05 12:59:00  2015   \n",
       "2   A724273  Runster  2016-04-14 18:43:00  2016   \n",
       "3   A665644      NaN  2013-10-21 07:59:00  2013   \n",
       "4   A682524      Rio  2014-06-29 10:38:00  2014   \n",
       "\n",
       "                        Found Location Intake Type Intake Condition  \\\n",
       "0  2501 Magin Meadow Dr in Austin (TX)       Stray           Normal   \n",
       "1     9409 Bluegrass Dr in Austin (TX)       Stray           Normal   \n",
       "2   2818 Palomino Trail in Austin (TX)       Stray           Normal   \n",
       "3                          Austin (TX)       Stray             Sick   \n",
       "4        800 Grove Blvd in Austin (TX)       Stray           Normal   \n",
       "\n",
       "  Animal Type Sex upon Intake Age upon Intake  \\\n",
       "0         Dog   Neutered Male         2 years   \n",
       "1         Dog   Spayed Female         8 years   \n",
       "2         Dog     Intact Male       11 months   \n",
       "3         Cat   Intact Female         4 weeks   \n",
       "4         Dog   Neutered Male         4 years   \n",
       "\n",
       "                                   Breed        Color  test  \n",
       "0                             Beagle Mix     Tricolor     0  \n",
       "1               English Springer Spaniel  White/Liver     0  \n",
       "2                            Basenji Mix  Sable/White     0  \n",
       "3                 Domestic Shorthair Mix       Calico     0  \n",
       "4  Doberman Pinsch/Australian Cattle Dog     Tan/Gray     0  "
      ]
     },
     "execution_count": 54,
     "metadata": {},
     "output_type": "execute_result"
    }
   ],
   "source": [
    "# Sanity check\n",
    "df_augmented.head()"
   ]
  },
  {
   "cell_type": "markdown",
   "metadata": {},
   "source": [
    "But we don't need that - let's drop that column."
   ]
  },
  {
   "cell_type": "code",
   "execution_count": 55,
   "metadata": {},
   "outputs": [],
   "source": [
    "# Drop that test column\n",
    "df_augmented = df_augmented.drop(columns=['test'])"
   ]
  },
  {
   "cell_type": "code",
   "execution_count": 56,
   "metadata": {},
   "outputs": [
    {
     "data": {
      "text/html": [
       "<div>\n",
       "<style scoped>\n",
       "    .dataframe tbody tr th:only-of-type {\n",
       "        vertical-align: middle;\n",
       "    }\n",
       "\n",
       "    .dataframe tbody tr th {\n",
       "        vertical-align: top;\n",
       "    }\n",
       "\n",
       "    .dataframe thead th {\n",
       "        text-align: right;\n",
       "    }\n",
       "</style>\n",
       "<table border=\"1\" class=\"dataframe\">\n",
       "  <thead>\n",
       "    <tr style=\"text-align: right;\">\n",
       "      <th></th>\n",
       "      <th>Animal ID</th>\n",
       "      <th>Name</th>\n",
       "      <th>DateTime</th>\n",
       "      <th>Year</th>\n",
       "      <th>Found Location</th>\n",
       "      <th>Intake Type</th>\n",
       "      <th>Intake Condition</th>\n",
       "      <th>Animal Type</th>\n",
       "      <th>Sex upon Intake</th>\n",
       "      <th>Age upon Intake</th>\n",
       "      <th>Breed</th>\n",
       "      <th>Color</th>\n",
       "    </tr>\n",
       "  </thead>\n",
       "  <tbody>\n",
       "    <tr>\n",
       "      <th>0</th>\n",
       "      <td>A786884</td>\n",
       "      <td>*Brock</td>\n",
       "      <td>2019-01-03 16:19:00</td>\n",
       "      <td>2019</td>\n",
       "      <td>2501 Magin Meadow Dr in Austin (TX)</td>\n",
       "      <td>Stray</td>\n",
       "      <td>Normal</td>\n",
       "      <td>Dog</td>\n",
       "      <td>Neutered Male</td>\n",
       "      <td>2 years</td>\n",
       "      <td>Beagle Mix</td>\n",
       "      <td>Tricolor</td>\n",
       "    </tr>\n",
       "    <tr>\n",
       "      <th>1</th>\n",
       "      <td>A706918</td>\n",
       "      <td>Belle</td>\n",
       "      <td>2015-07-05 12:59:00</td>\n",
       "      <td>2015</td>\n",
       "      <td>9409 Bluegrass Dr in Austin (TX)</td>\n",
       "      <td>Stray</td>\n",
       "      <td>Normal</td>\n",
       "      <td>Dog</td>\n",
       "      <td>Spayed Female</td>\n",
       "      <td>8 years</td>\n",
       "      <td>English Springer Spaniel</td>\n",
       "      <td>White/Liver</td>\n",
       "    </tr>\n",
       "    <tr>\n",
       "      <th>2</th>\n",
       "      <td>A724273</td>\n",
       "      <td>Runster</td>\n",
       "      <td>2016-04-14 18:43:00</td>\n",
       "      <td>2016</td>\n",
       "      <td>2818 Palomino Trail in Austin (TX)</td>\n",
       "      <td>Stray</td>\n",
       "      <td>Normal</td>\n",
       "      <td>Dog</td>\n",
       "      <td>Intact Male</td>\n",
       "      <td>11 months</td>\n",
       "      <td>Basenji Mix</td>\n",
       "      <td>Sable/White</td>\n",
       "    </tr>\n",
       "    <tr>\n",
       "      <th>3</th>\n",
       "      <td>A665644</td>\n",
       "      <td>NaN</td>\n",
       "      <td>2013-10-21 07:59:00</td>\n",
       "      <td>2013</td>\n",
       "      <td>Austin (TX)</td>\n",
       "      <td>Stray</td>\n",
       "      <td>Sick</td>\n",
       "      <td>Cat</td>\n",
       "      <td>Intact Female</td>\n",
       "      <td>4 weeks</td>\n",
       "      <td>Domestic Shorthair Mix</td>\n",
       "      <td>Calico</td>\n",
       "    </tr>\n",
       "    <tr>\n",
       "      <th>4</th>\n",
       "      <td>A682524</td>\n",
       "      <td>Rio</td>\n",
       "      <td>2014-06-29 10:38:00</td>\n",
       "      <td>2014</td>\n",
       "      <td>800 Grove Blvd in Austin (TX)</td>\n",
       "      <td>Stray</td>\n",
       "      <td>Normal</td>\n",
       "      <td>Dog</td>\n",
       "      <td>Neutered Male</td>\n",
       "      <td>4 years</td>\n",
       "      <td>Doberman Pinsch/Australian Cattle Dog</td>\n",
       "      <td>Tan/Gray</td>\n",
       "    </tr>\n",
       "  </tbody>\n",
       "</table>\n",
       "</div>"
      ],
      "text/plain": [
       "  Animal ID     Name             DateTime  Year  \\\n",
       "0   A786884   *Brock  2019-01-03 16:19:00  2019   \n",
       "1   A706918    Belle  2015-07-05 12:59:00  2015   \n",
       "2   A724273  Runster  2016-04-14 18:43:00  2016   \n",
       "3   A665644      NaN  2013-10-21 07:59:00  2013   \n",
       "4   A682524      Rio  2014-06-29 10:38:00  2014   \n",
       "\n",
       "                        Found Location Intake Type Intake Condition  \\\n",
       "0  2501 Magin Meadow Dr in Austin (TX)       Stray           Normal   \n",
       "1     9409 Bluegrass Dr in Austin (TX)       Stray           Normal   \n",
       "2   2818 Palomino Trail in Austin (TX)       Stray           Normal   \n",
       "3                          Austin (TX)       Stray             Sick   \n",
       "4        800 Grove Blvd in Austin (TX)       Stray           Normal   \n",
       "\n",
       "  Animal Type Sex upon Intake Age upon Intake  \\\n",
       "0         Dog   Neutered Male         2 years   \n",
       "1         Dog   Spayed Female         8 years   \n",
       "2         Dog     Intact Male       11 months   \n",
       "3         Cat   Intact Female         4 weeks   \n",
       "4         Dog   Neutered Male         4 years   \n",
       "\n",
       "                                   Breed        Color  \n",
       "0                             Beagle Mix     Tricolor  \n",
       "1               English Springer Spaniel  White/Liver  \n",
       "2                            Basenji Mix  Sable/White  \n",
       "3                 Domestic Shorthair Mix       Calico  \n",
       "4  Doberman Pinsch/Australian Cattle Dog     Tan/Gray  "
      ]
     },
     "execution_count": 56,
     "metadata": {},
     "output_type": "execute_result"
    }
   ],
   "source": [
    "# Sanity check\n",
    "df_augmented.head()"
   ]
  },
  {
   "cell_type": "markdown",
   "metadata": {
    "hidden": true
   },
   "source": [
    "We can also do math with columns, or use mathematical notation to combine columns even when they aren't numerical!\n",
    "\n",
    "We don't have any numeric data in this current dataset. But we can still create a combined \"Type\" column that combines the values of our Intake Type and Animal Type columns."
   ]
  },
  {
   "cell_type": "code",
   "execution_count": 57,
   "metadata": {
    "hidden": true
   },
   "outputs": [],
   "source": [
    "# Create a new column, 'Type', from the two 'Type' columns\n",
    "df_augmented['Type'] = df_augmented['Intake Type'] + \" \" + df_augmented['Animal Type']"
   ]
  },
  {
   "cell_type": "code",
   "execution_count": null,
   "metadata": {
    "hidden": true
   },
   "outputs": [],
   "source": [
    "# Sanity check\n",
    "df_augmented.head()"
   ]
  },
  {
   "cell_type": "markdown",
   "metadata": {
    "heading_collapsed": true
   },
   "source": [
    "## Filtering"
   ]
  },
  {
   "cell_type": "markdown",
   "metadata": {
    "hidden": true
   },
   "source": [
    "We can use filtering techniques to see only certain rows of our data. Let's look at only animals taken into the center during or after 2020:"
   ]
  },
  {
   "cell_type": "code",
   "execution_count": 58,
   "metadata": {},
   "outputs": [
    {
     "data": {
      "text/plain": [
       "0         False\n",
       "1         False\n",
       "2         False\n",
       "3         False\n",
       "4         False\n",
       "          ...  \n",
       "136759     True\n",
       "136760     True\n",
       "136761     True\n",
       "136762     True\n",
       "136763     True\n",
       "Name: Year, Length: 136764, dtype: bool"
      ]
     },
     "execution_count": 58,
     "metadata": {},
     "output_type": "execute_result"
    }
   ],
   "source": [
    "# Check which rows have an intake year greater than or equal to 2020\n",
    "df_augmented['Year'] >= 2020"
   ]
  },
  {
   "cell_type": "code",
   "execution_count": 59,
   "metadata": {
    "hidden": true
   },
   "outputs": [
    {
     "data": {
      "text/plain": [
       "23270"
      ]
     },
     "execution_count": 59,
     "metadata": {},
     "output_type": "execute_result"
    }
   ],
   "source": [
    "# Let's explore an interesting property of boolean columns...\n",
    "# Find out the total sum of animals taken in during or after 2020\n",
    "sum(df_augmented['Year'] >= 2020)"
   ]
  },
  {
   "cell_type": "markdown",
   "metadata": {},
   "source": [
    "But this only gives us True/False outputs... what if we want to really filter?"
   ]
  },
  {
   "cell_type": "markdown",
   "metadata": {
    "heading_collapsed": true,
    "hidden": true
   },
   "source": [
    "### `.loc` "
   ]
  },
  {
   "cell_type": "markdown",
   "metadata": {
    "hidden": true
   },
   "source": [
    "We can locate and segment down to only rows where some condition is true using `.loc`. This takes in a condition, and only outputs the rows where that condition is True! \n",
    "\n",
    "> **Note:** locate (`.loc`) uses square brackets, not parentheses! Often, square brackets denote location-focused actions, like this one.\n",
    "\n",
    "Let's try this first with the condition we just built, and locate all animals taken in during or after 2020."
   ]
  },
  {
   "cell_type": "code",
   "execution_count": 68,
   "metadata": {
    "hidden": true
   },
   "outputs": [],
   "source": [
    "# Create a subset dataframe of animals taken in during or after 2020\n",
    "subset_2020 = df_augmented.loc[df_augmented['Animal Type'] == \"Cat\"]"
   ]
  },
  {
   "cell_type": "code",
   "execution_count": 69,
   "metadata": {},
   "outputs": [
    {
     "data": {
      "text/html": [
       "<div>\n",
       "<style scoped>\n",
       "    .dataframe tbody tr th:only-of-type {\n",
       "        vertical-align: middle;\n",
       "    }\n",
       "\n",
       "    .dataframe tbody tr th {\n",
       "        vertical-align: top;\n",
       "    }\n",
       "\n",
       "    .dataframe thead th {\n",
       "        text-align: right;\n",
       "    }\n",
       "</style>\n",
       "<table border=\"1\" class=\"dataframe\">\n",
       "  <thead>\n",
       "    <tr style=\"text-align: right;\">\n",
       "      <th></th>\n",
       "      <th>Animal ID</th>\n",
       "      <th>Name</th>\n",
       "      <th>DateTime</th>\n",
       "      <th>Year</th>\n",
       "      <th>Found Location</th>\n",
       "      <th>Intake Type</th>\n",
       "      <th>Intake Condition</th>\n",
       "      <th>Animal Type</th>\n",
       "      <th>Sex upon Intake</th>\n",
       "      <th>Age upon Intake</th>\n",
       "      <th>Breed</th>\n",
       "      <th>Color</th>\n",
       "      <th>Type</th>\n",
       "    </tr>\n",
       "  </thead>\n",
       "  <tbody>\n",
       "    <tr>\n",
       "      <th>3</th>\n",
       "      <td>A665644</td>\n",
       "      <td>NaN</td>\n",
       "      <td>2013-10-21 07:59:00</td>\n",
       "      <td>2013</td>\n",
       "      <td>Austin (TX)</td>\n",
       "      <td>Stray</td>\n",
       "      <td>Sick</td>\n",
       "      <td>Cat</td>\n",
       "      <td>Intact Female</td>\n",
       "      <td>4 weeks</td>\n",
       "      <td>Domestic Shorthair Mix</td>\n",
       "      <td>Calico</td>\n",
       "      <td>Stray Cat</td>\n",
       "    </tr>\n",
       "    <tr>\n",
       "      <th>7</th>\n",
       "      <td>A844350</td>\n",
       "      <td>*Ella</td>\n",
       "      <td>2021-10-15 11:40:00</td>\n",
       "      <td>2021</td>\n",
       "      <td>2112 East William Cannon Drive in Austin (TX)</td>\n",
       "      <td>Stray</td>\n",
       "      <td>Normal</td>\n",
       "      <td>Cat</td>\n",
       "      <td>Intact Female</td>\n",
       "      <td>6 months</td>\n",
       "      <td>Domestic Shorthair</td>\n",
       "      <td>Brown Tabby</td>\n",
       "      <td>Stray Cat</td>\n",
       "    </tr>\n",
       "    <tr>\n",
       "      <th>9</th>\n",
       "      <td>A818975</td>\n",
       "      <td>NaN</td>\n",
       "      <td>2020-06-18 14:53:00</td>\n",
       "      <td>2020</td>\n",
       "      <td>Braker Lane And Metric in Travis (TX)</td>\n",
       "      <td>Stray</td>\n",
       "      <td>Normal</td>\n",
       "      <td>Cat</td>\n",
       "      <td>Intact Male</td>\n",
       "      <td>4 weeks</td>\n",
       "      <td>Domestic Shorthair</td>\n",
       "      <td>Cream Tabby</td>\n",
       "      <td>Stray Cat</td>\n",
       "    </tr>\n",
       "    <tr>\n",
       "      <th>10</th>\n",
       "      <td>A774147</td>\n",
       "      <td>NaN</td>\n",
       "      <td>2018-06-11 07:45:00</td>\n",
       "      <td>2018</td>\n",
       "      <td>6600 Elm Creek in Austin (TX)</td>\n",
       "      <td>Stray</td>\n",
       "      <td>Injured</td>\n",
       "      <td>Cat</td>\n",
       "      <td>Intact Female</td>\n",
       "      <td>4 weeks</td>\n",
       "      <td>Domestic Shorthair Mix</td>\n",
       "      <td>Black/White</td>\n",
       "      <td>Stray Cat</td>\n",
       "    </tr>\n",
       "    <tr>\n",
       "      <th>11</th>\n",
       "      <td>A731435</td>\n",
       "      <td>*Casey</td>\n",
       "      <td>2016-08-08 17:52:00</td>\n",
       "      <td>2016</td>\n",
       "      <td>Austin (TX)</td>\n",
       "      <td>Owner Surrender</td>\n",
       "      <td>Normal</td>\n",
       "      <td>Cat</td>\n",
       "      <td>Neutered Male</td>\n",
       "      <td>5 months</td>\n",
       "      <td>Domestic Shorthair Mix</td>\n",
       "      <td>Cream Tabby</td>\n",
       "      <td>Owner Surrender Cat</td>\n",
       "    </tr>\n",
       "  </tbody>\n",
       "</table>\n",
       "</div>"
      ],
      "text/plain": [
       "   Animal ID    Name             DateTime  Year  \\\n",
       "3    A665644     NaN  2013-10-21 07:59:00  2013   \n",
       "7    A844350   *Ella  2021-10-15 11:40:00  2021   \n",
       "9    A818975     NaN  2020-06-18 14:53:00  2020   \n",
       "10   A774147     NaN  2018-06-11 07:45:00  2018   \n",
       "11   A731435  *Casey  2016-08-08 17:52:00  2016   \n",
       "\n",
       "                                   Found Location      Intake Type  \\\n",
       "3                                     Austin (TX)            Stray   \n",
       "7   2112 East William Cannon Drive in Austin (TX)            Stray   \n",
       "9           Braker Lane And Metric in Travis (TX)            Stray   \n",
       "10                  6600 Elm Creek in Austin (TX)            Stray   \n",
       "11                                    Austin (TX)  Owner Surrender   \n",
       "\n",
       "   Intake Condition Animal Type Sex upon Intake Age upon Intake  \\\n",
       "3              Sick         Cat   Intact Female         4 weeks   \n",
       "7            Normal         Cat   Intact Female        6 months   \n",
       "9            Normal         Cat     Intact Male         4 weeks   \n",
       "10          Injured         Cat   Intact Female         4 weeks   \n",
       "11           Normal         Cat   Neutered Male        5 months   \n",
       "\n",
       "                     Breed        Color                 Type  \n",
       "3   Domestic Shorthair Mix       Calico            Stray Cat  \n",
       "7       Domestic Shorthair  Brown Tabby            Stray Cat  \n",
       "9       Domestic Shorthair  Cream Tabby            Stray Cat  \n",
       "10  Domestic Shorthair Mix  Black/White            Stray Cat  \n",
       "11  Domestic Shorthair Mix  Cream Tabby  Owner Surrender Cat  "
      ]
     },
     "execution_count": 69,
     "metadata": {},
     "output_type": "execute_result"
    }
   ],
   "source": [
    "subset_2020.head()"
   ]
  },
  {
   "cell_type": "markdown",
   "metadata": {},
   "source": [
    "We can return only certain columns when we do this, by adding an argument after the condition:"
   ]
  },
  {
   "cell_type": "code",
   "execution_count": 63,
   "metadata": {
    "hidden": true
   },
   "outputs": [
    {
     "data": {
      "text/html": [
       "<div>\n",
       "<style scoped>\n",
       "    .dataframe tbody tr th:only-of-type {\n",
       "        vertical-align: middle;\n",
       "    }\n",
       "\n",
       "    .dataframe tbody tr th {\n",
       "        vertical-align: top;\n",
       "    }\n",
       "\n",
       "    .dataframe thead th {\n",
       "        text-align: right;\n",
       "    }\n",
       "</style>\n",
       "<table border=\"1\" class=\"dataframe\">\n",
       "  <thead>\n",
       "    <tr style=\"text-align: right;\">\n",
       "      <th></th>\n",
       "      <th>Animal ID</th>\n",
       "      <th>DateTime</th>\n",
       "      <th>Type</th>\n",
       "    </tr>\n",
       "  </thead>\n",
       "  <tbody>\n",
       "    <tr>\n",
       "      <th>7</th>\n",
       "      <td>A844350</td>\n",
       "      <td>2021-10-15 11:40:00</td>\n",
       "      <td>Stray Cat</td>\n",
       "    </tr>\n",
       "    <tr>\n",
       "      <th>9</th>\n",
       "      <td>A818975</td>\n",
       "      <td>2020-06-18 14:53:00</td>\n",
       "      <td>Stray Cat</td>\n",
       "    </tr>\n",
       "    <tr>\n",
       "      <th>22</th>\n",
       "      <td>A831808</td>\n",
       "      <td>2021-04-02 11:16:00</td>\n",
       "      <td>Owner Surrender Cat</td>\n",
       "    </tr>\n",
       "    <tr>\n",
       "      <th>24</th>\n",
       "      <td>A836850</td>\n",
       "      <td>2021-06-15 12:37:00</td>\n",
       "      <td>Public Assist Dog</td>\n",
       "    </tr>\n",
       "    <tr>\n",
       "      <th>26</th>\n",
       "      <td>A815227</td>\n",
       "      <td>2020-03-12 13:52:00</td>\n",
       "      <td>Stray Dog</td>\n",
       "    </tr>\n",
       "    <tr>\n",
       "      <th>...</th>\n",
       "      <td>...</td>\n",
       "      <td>...</td>\n",
       "      <td>...</td>\n",
       "    </tr>\n",
       "    <tr>\n",
       "      <th>136759</th>\n",
       "      <td>A852221</td>\n",
       "      <td>2022-02-28 11:05:00</td>\n",
       "      <td>Stray Dog</td>\n",
       "    </tr>\n",
       "    <tr>\n",
       "      <th>136760</th>\n",
       "      <td>A851977</td>\n",
       "      <td>2022-02-22 13:34:00</td>\n",
       "      <td>Stray Dog</td>\n",
       "    </tr>\n",
       "    <tr>\n",
       "      <th>136761</th>\n",
       "      <td>A852127</td>\n",
       "      <td>2022-02-25 13:05:00</td>\n",
       "      <td>Stray Dog</td>\n",
       "    </tr>\n",
       "    <tr>\n",
       "      <th>136762</th>\n",
       "      <td>A852194</td>\n",
       "      <td>2022-02-27 13:44:00</td>\n",
       "      <td>Stray Dog</td>\n",
       "    </tr>\n",
       "    <tr>\n",
       "      <th>136763</th>\n",
       "      <td>A851755</td>\n",
       "      <td>2/28/2022 11:25:00 AM</td>\n",
       "      <td>Public Assist Cat</td>\n",
       "    </tr>\n",
       "  </tbody>\n",
       "</table>\n",
       "<p>23270 rows × 3 columns</p>\n",
       "</div>"
      ],
      "text/plain": [
       "       Animal ID               DateTime                 Type\n",
       "7        A844350    2021-10-15 11:40:00            Stray Cat\n",
       "9        A818975    2020-06-18 14:53:00            Stray Cat\n",
       "22       A831808    2021-04-02 11:16:00  Owner Surrender Cat\n",
       "24       A836850    2021-06-15 12:37:00    Public Assist Dog\n",
       "26       A815227    2020-03-12 13:52:00            Stray Dog\n",
       "...          ...                    ...                  ...\n",
       "136759   A852221    2022-02-28 11:05:00            Stray Dog\n",
       "136760   A851977    2022-02-22 13:34:00            Stray Dog\n",
       "136761   A852127    2022-02-25 13:05:00            Stray Dog\n",
       "136762   A852194    2022-02-27 13:44:00            Stray Dog\n",
       "136763   A851755  2/28/2022 11:25:00 AM    Public Assist Cat\n",
       "\n",
       "[23270 rows x 3 columns]"
      ]
     },
     "execution_count": 63,
     "metadata": {},
     "output_type": "execute_result"
    }
   ],
   "source": [
    "# Let's return just the 'Animal ID', 'DateTime' and 'Type' columns\n",
    "df_augmented.loc[df_augmented['Year'] >= 2020, ['Animal ID', 'DateTime', 'Type']]"
   ]
  },
  {
   "cell_type": "markdown",
   "metadata": {
    "hidden": true
   },
   "source": [
    "What if I want to segment using multiple conditions? Use `&` for \"and\" and `|` for \"or\" - and use parentheses around individual conditions!"
   ]
  },
  {
   "cell_type": "code",
   "execution_count": 64,
   "metadata": {},
   "outputs": [
    {
     "data": {
      "text/html": [
       "<div>\n",
       "<style scoped>\n",
       "    .dataframe tbody tr th:only-of-type {\n",
       "        vertical-align: middle;\n",
       "    }\n",
       "\n",
       "    .dataframe tbody tr th {\n",
       "        vertical-align: top;\n",
       "    }\n",
       "\n",
       "    .dataframe thead th {\n",
       "        text-align: right;\n",
       "    }\n",
       "</style>\n",
       "<table border=\"1\" class=\"dataframe\">\n",
       "  <thead>\n",
       "    <tr style=\"text-align: right;\">\n",
       "      <th></th>\n",
       "      <th>Animal ID</th>\n",
       "      <th>Name</th>\n",
       "      <th>DateTime</th>\n",
       "      <th>Year</th>\n",
       "      <th>Found Location</th>\n",
       "      <th>Intake Type</th>\n",
       "      <th>Intake Condition</th>\n",
       "      <th>Animal Type</th>\n",
       "      <th>Sex upon Intake</th>\n",
       "      <th>Age upon Intake</th>\n",
       "      <th>Breed</th>\n",
       "      <th>Color</th>\n",
       "      <th>Type</th>\n",
       "    </tr>\n",
       "  </thead>\n",
       "  <tbody>\n",
       "    <tr>\n",
       "      <th>7</th>\n",
       "      <td>A844350</td>\n",
       "      <td>*Ella</td>\n",
       "      <td>2021-10-15 11:40:00</td>\n",
       "      <td>2021</td>\n",
       "      <td>2112 East William Cannon Drive in Austin (TX)</td>\n",
       "      <td>Stray</td>\n",
       "      <td>Normal</td>\n",
       "      <td>Cat</td>\n",
       "      <td>Intact Female</td>\n",
       "      <td>6 months</td>\n",
       "      <td>Domestic Shorthair</td>\n",
       "      <td>Brown Tabby</td>\n",
       "      <td>Stray Cat</td>\n",
       "    </tr>\n",
       "    <tr>\n",
       "      <th>9</th>\n",
       "      <td>A818975</td>\n",
       "      <td>NaN</td>\n",
       "      <td>2020-06-18 14:53:00</td>\n",
       "      <td>2020</td>\n",
       "      <td>Braker Lane And Metric in Travis (TX)</td>\n",
       "      <td>Stray</td>\n",
       "      <td>Normal</td>\n",
       "      <td>Cat</td>\n",
       "      <td>Intact Male</td>\n",
       "      <td>4 weeks</td>\n",
       "      <td>Domestic Shorthair</td>\n",
       "      <td>Cream Tabby</td>\n",
       "      <td>Stray Cat</td>\n",
       "    </tr>\n",
       "    <tr>\n",
       "      <th>44</th>\n",
       "      <td>A821389</td>\n",
       "      <td>*Dim Sum</td>\n",
       "      <td>2020-08-10 14:10:00</td>\n",
       "      <td>2020</td>\n",
       "      <td>7800 San Felipe Boulevard in Austin (TX)</td>\n",
       "      <td>Stray</td>\n",
       "      <td>Normal</td>\n",
       "      <td>Cat</td>\n",
       "      <td>Intact Male</td>\n",
       "      <td>4 weeks</td>\n",
       "      <td>Domestic Shorthair</td>\n",
       "      <td>Brown Tabby</td>\n",
       "      <td>Stray Cat</td>\n",
       "    </tr>\n",
       "    <tr>\n",
       "      <th>123</th>\n",
       "      <td>A816185</td>\n",
       "      <td>NaN</td>\n",
       "      <td>2020-04-09 07:49:00</td>\n",
       "      <td>2020</td>\n",
       "      <td>1830 W Rundberg in Austin (TX)</td>\n",
       "      <td>Stray</td>\n",
       "      <td>Normal</td>\n",
       "      <td>Cat</td>\n",
       "      <td>Intact Male</td>\n",
       "      <td>1 week</td>\n",
       "      <td>Domestic Shorthair</td>\n",
       "      <td>Gray Tabby</td>\n",
       "      <td>Stray Cat</td>\n",
       "    </tr>\n",
       "    <tr>\n",
       "      <th>128</th>\n",
       "      <td>A834412</td>\n",
       "      <td>Montie</td>\n",
       "      <td>2021-05-13 13:58:00</td>\n",
       "      <td>2021</td>\n",
       "      <td>1601 East Slaughter Lane in Austin (TX)</td>\n",
       "      <td>Stray</td>\n",
       "      <td>Sick</td>\n",
       "      <td>Cat</td>\n",
       "      <td>Neutered Male</td>\n",
       "      <td>5 years</td>\n",
       "      <td>Domestic Shorthair</td>\n",
       "      <td>Brown Tabby</td>\n",
       "      <td>Stray Cat</td>\n",
       "    </tr>\n",
       "    <tr>\n",
       "      <th>...</th>\n",
       "      <td>...</td>\n",
       "      <td>...</td>\n",
       "      <td>...</td>\n",
       "      <td>...</td>\n",
       "      <td>...</td>\n",
       "      <td>...</td>\n",
       "      <td>...</td>\n",
       "      <td>...</td>\n",
       "      <td>...</td>\n",
       "      <td>...</td>\n",
       "      <td>...</td>\n",
       "      <td>...</td>\n",
       "      <td>...</td>\n",
       "    </tr>\n",
       "    <tr>\n",
       "      <th>136734</th>\n",
       "      <td>A852021</td>\n",
       "      <td>*Luna</td>\n",
       "      <td>2022-02-23 11:57:00</td>\n",
       "      <td>2022</td>\n",
       "      <td>Austin (TX)</td>\n",
       "      <td>Stray</td>\n",
       "      <td>Normal</td>\n",
       "      <td>Cat</td>\n",
       "      <td>Intact Female</td>\n",
       "      <td>3 months</td>\n",
       "      <td>Domestic Shorthair Mix</td>\n",
       "      <td>Brown Tabby</td>\n",
       "      <td>Stray Cat</td>\n",
       "    </tr>\n",
       "    <tr>\n",
       "      <th>136746</th>\n",
       "      <td>A850166</td>\n",
       "      <td>Rainey</td>\n",
       "      <td>2022-01-19 12:39:00</td>\n",
       "      <td>2022</td>\n",
       "      <td>South First in Austin (TX)</td>\n",
       "      <td>Stray</td>\n",
       "      <td>Normal</td>\n",
       "      <td>Cat</td>\n",
       "      <td>Intact Male</td>\n",
       "      <td>1 month</td>\n",
       "      <td>Siamese</td>\n",
       "      <td>Seal Point</td>\n",
       "      <td>Stray Cat</td>\n",
       "    </tr>\n",
       "    <tr>\n",
       "      <th>136750</th>\n",
       "      <td>A852230</td>\n",
       "      <td>NaN</td>\n",
       "      <td>2022-02-28 12:15:00</td>\n",
       "      <td>2022</td>\n",
       "      <td>Austin (TX)</td>\n",
       "      <td>Stray</td>\n",
       "      <td>Normal</td>\n",
       "      <td>Cat</td>\n",
       "      <td>Unknown</td>\n",
       "      <td>5 months</td>\n",
       "      <td>Domestic Shorthair</td>\n",
       "      <td>Brown Tabby</td>\n",
       "      <td>Stray Cat</td>\n",
       "    </tr>\n",
       "    <tr>\n",
       "      <th>136754</th>\n",
       "      <td>A852234</td>\n",
       "      <td>NaN</td>\n",
       "      <td>2022-02-28 12:33:00</td>\n",
       "      <td>2022</td>\n",
       "      <td>305 E Lola Lane in Austin (TX)</td>\n",
       "      <td>Stray</td>\n",
       "      <td>Injured</td>\n",
       "      <td>Cat</td>\n",
       "      <td>Intact Female</td>\n",
       "      <td>2 years</td>\n",
       "      <td>Domestic Shorthair</td>\n",
       "      <td>Calico</td>\n",
       "      <td>Stray Cat</td>\n",
       "    </tr>\n",
       "    <tr>\n",
       "      <th>136757</th>\n",
       "      <td>A852216</td>\n",
       "      <td>NaN</td>\n",
       "      <td>2022-02-28 10:50:00</td>\n",
       "      <td>2022</td>\n",
       "      <td>Outside Jurisdiction</td>\n",
       "      <td>Stray</td>\n",
       "      <td>Normal</td>\n",
       "      <td>Cat</td>\n",
       "      <td>Intact Female</td>\n",
       "      <td>6 months</td>\n",
       "      <td>Domestic Shorthair</td>\n",
       "      <td>Black/White</td>\n",
       "      <td>Stray Cat</td>\n",
       "    </tr>\n",
       "  </tbody>\n",
       "</table>\n",
       "<p>6204 rows × 13 columns</p>\n",
       "</div>"
      ],
      "text/plain": [
       "       Animal ID      Name             DateTime  Year  \\\n",
       "7        A844350     *Ella  2021-10-15 11:40:00  2021   \n",
       "9        A818975       NaN  2020-06-18 14:53:00  2020   \n",
       "44       A821389  *Dim Sum  2020-08-10 14:10:00  2020   \n",
       "123      A816185       NaN  2020-04-09 07:49:00  2020   \n",
       "128      A834412    Montie  2021-05-13 13:58:00  2021   \n",
       "...          ...       ...                  ...   ...   \n",
       "136734   A852021     *Luna  2022-02-23 11:57:00  2022   \n",
       "136746   A850166    Rainey  2022-01-19 12:39:00  2022   \n",
       "136750   A852230       NaN  2022-02-28 12:15:00  2022   \n",
       "136754   A852234       NaN  2022-02-28 12:33:00  2022   \n",
       "136757   A852216       NaN  2022-02-28 10:50:00  2022   \n",
       "\n",
       "                                       Found Location Intake Type  \\\n",
       "7       2112 East William Cannon Drive in Austin (TX)       Stray   \n",
       "9               Braker Lane And Metric in Travis (TX)       Stray   \n",
       "44           7800 San Felipe Boulevard in Austin (TX)       Stray   \n",
       "123                    1830 W Rundberg in Austin (TX)       Stray   \n",
       "128           1601 East Slaughter Lane in Austin (TX)       Stray   \n",
       "...                                               ...         ...   \n",
       "136734                                    Austin (TX)       Stray   \n",
       "136746                     South First in Austin (TX)       Stray   \n",
       "136750                                    Austin (TX)       Stray   \n",
       "136754                 305 E Lola Lane in Austin (TX)       Stray   \n",
       "136757                           Outside Jurisdiction       Stray   \n",
       "\n",
       "       Intake Condition Animal Type Sex upon Intake Age upon Intake  \\\n",
       "7                Normal         Cat   Intact Female        6 months   \n",
       "9                Normal         Cat     Intact Male         4 weeks   \n",
       "44               Normal         Cat     Intact Male         4 weeks   \n",
       "123              Normal         Cat     Intact Male          1 week   \n",
       "128                Sick         Cat   Neutered Male         5 years   \n",
       "...                 ...         ...             ...             ...   \n",
       "136734           Normal         Cat   Intact Female        3 months   \n",
       "136746           Normal         Cat     Intact Male         1 month   \n",
       "136750           Normal         Cat         Unknown        5 months   \n",
       "136754          Injured         Cat   Intact Female         2 years   \n",
       "136757           Normal         Cat   Intact Female        6 months   \n",
       "\n",
       "                         Breed        Color       Type  \n",
       "7           Domestic Shorthair  Brown Tabby  Stray Cat  \n",
       "9           Domestic Shorthair  Cream Tabby  Stray Cat  \n",
       "44          Domestic Shorthair  Brown Tabby  Stray Cat  \n",
       "123         Domestic Shorthair   Gray Tabby  Stray Cat  \n",
       "128         Domestic Shorthair  Brown Tabby  Stray Cat  \n",
       "...                        ...          ...        ...  \n",
       "136734  Domestic Shorthair Mix  Brown Tabby  Stray Cat  \n",
       "136746                 Siamese   Seal Point  Stray Cat  \n",
       "136750      Domestic Shorthair  Brown Tabby  Stray Cat  \n",
       "136754      Domestic Shorthair       Calico  Stray Cat  \n",
       "136757      Domestic Shorthair  Black/White  Stray Cat  \n",
       "\n",
       "[6204 rows x 13 columns]"
      ]
     },
     "execution_count": 64,
     "metadata": {},
     "output_type": "execute_result"
    }
   ],
   "source": [
    "# Find all the Stray Cats taken in during or after 2020\n",
    "df_augmented.loc[(df_augmented['Year'] >= 2020) & (df_augmented['Type'] == 'Stray Cat')]"
   ]
  },
  {
   "cell_type": "markdown",
   "metadata": {},
   "source": [
    "## Your turn!"
   ]
  },
  {
   "cell_type": "markdown",
   "metadata": {},
   "source": [
    "### Exercise 1\n",
    "\n",
    "You need to find dogs that need extra attention - How would you find all dogs where the intake condition is NOT normal?"
   ]
  },
  {
   "cell_type": "code",
   "execution_count": null,
   "metadata": {},
   "outputs": [],
   "source": [
    "# Your code here"
   ]
  },
  {
   "cell_type": "markdown",
   "metadata": {},
   "source": [
    "<details>\n",
    "    <summary>Answer</summary>\n",
    "\n",
    "```python\n",
    "df_augmented.loc[(df_augmented['Animal Type'] == 'Dog') & (df_augmented['Intake Condition'] != 'Normal')]\n",
    "```\n",
    "</details>"
   ]
  },
  {
   "cell_type": "markdown",
   "metadata": {},
   "source": [
    "### Exercise 2\n",
    "\n",
    "You need to find animals that might need to be fixed - How would you find all animals that are either Intact Male or Intact Female?"
   ]
  },
  {
   "cell_type": "code",
   "execution_count": null,
   "metadata": {},
   "outputs": [],
   "source": [
    "# Your code here"
   ]
  },
  {
   "cell_type": "markdown",
   "metadata": {},
   "source": [
    "<details>\n",
    "    <summary>Answer</summary>\n",
    "\n",
    "```python\n",
    "df_augmented[(df_augmented['Sex upon Intake'] == 'Intact Male') |\n",
    "             (df_augmented['Sex upon Intake'] == 'Intact Female')]\n",
    "```\n",
    "</details>"
   ]
  },
  {
   "cell_type": "markdown",
   "metadata": {},
   "source": [
    "### `.iloc`"
   ]
  },
  {
   "cell_type": "markdown",
   "metadata": {
    "hidden": true
   },
   "source": [
    "`.iloc` is used for integer-location based indexing, aka locate by number. It can take in lists of numbers, python slices, or specific numbers - but sometimes it can be a bit tricky!"
   ]
  },
  {
   "cell_type": "code",
   "execution_count": null,
   "metadata": {
    "hidden": true
   },
   "outputs": [],
   "source": [
    "# Find the first 3 rows\n",
    "df_augmented.iloc[:3]"
   ]
  },
  {
   "cell_type": "code",
   "execution_count": null,
   "metadata": {
    "hidden": true
   },
   "outputs": [],
   "source": [
    "# Same as using head(3)\n",
    "df_augmented.head(3)"
   ]
  },
  {
   "cell_type": "code",
   "execution_count": null,
   "metadata": {},
   "outputs": [],
   "source": [
    "# Can look exactly where the 0 index is\n",
    "df_augmented.iloc[0]"
   ]
  },
  {
   "cell_type": "code",
   "execution_count": null,
   "metadata": {},
   "outputs": [],
   "source": [
    "# But what about our subset dataframe above? It doesn't have an index 0\n",
    "subset_2020.head()"
   ]
  },
  {
   "cell_type": "code",
   "execution_count": null,
   "metadata": {},
   "outputs": [],
   "source": [
    "# Try it...\n",
    "subset_2020.iloc[0]"
   ]
  },
  {
   "cell_type": "markdown",
   "metadata": {
    "heading_collapsed": true
   },
   "source": [
    "## Series Methods"
   ]
  },
  {
   "cell_type": "markdown",
   "metadata": {
    "heading_collapsed": true,
    "hidden": true
   },
   "source": [
    "### `.value_counts()`"
   ]
  },
  {
   "cell_type": "markdown",
   "metadata": {
    "hidden": true
   },
   "source": [
    "How many different values does the Animal Type column have? What about Breed?"
   ]
  },
  {
   "cell_type": "code",
   "execution_count": null,
   "metadata": {
    "scrolled": true
   },
   "outputs": [],
   "source": [
    "# Check the value counts for Animal Type\n",
    "df_augmented['Animal Type'].value_counts()"
   ]
  },
  {
   "cell_type": "code",
   "execution_count": null,
   "metadata": {
    "hidden": true,
    "scrolled": true
   },
   "outputs": [],
   "source": [
    "# Now check Breed\n",
    "df_augmented['Breed'].value_counts()"
   ]
  },
  {
   "cell_type": "markdown",
   "metadata": {},
   "source": [
    "Sometimes, this is more useful than others... but, can check the percentage of the total, which might be more useful!"
   ]
  },
  {
   "cell_type": "code",
   "execution_count": null,
   "metadata": {},
   "outputs": [],
   "source": [
    "# Use the normalize argument to change how the count is displayed\n",
    "df_augmented['Breed'].value_counts(normalize=True)"
   ]
  },
  {
   "cell_type": "markdown",
   "metadata": {
    "heading_collapsed": true,
    "hidden": true
   },
   "source": [
    "### `.sort_values()`\n",
    "\n",
    "As you can imagine, this works differently whether you're using it on a numeric or non-numeric column"
   ]
  },
  {
   "cell_type": "code",
   "execution_count": null,
   "metadata": {
    "hidden": true
   },
   "outputs": [],
   "source": [
    "# Let's sort the year column\n",
    "df_augmented['Year'].sort_values()"
   ]
  },
  {
   "cell_type": "code",
   "execution_count": null,
   "metadata": {},
   "outputs": [],
   "source": [
    "# Now, sort the Animal Type col\n",
    "df_augmented['Animal Type'].sort_values()"
   ]
  },
  {
   "cell_type": "code",
   "execution_count": null,
   "metadata": {},
   "outputs": [],
   "source": [
    "# We can do this on the whole dataframe, it just needs to know what to sort by\n",
    "df_augmented.sort_values(by='Animal Type')"
   ]
  },
  {
   "cell_type": "markdown",
   "metadata": {
    "heading_collapsed": true
   },
   "source": [
    "# Extra Credit: Find a .csv file online and experiment with it."
   ]
  },
  {
   "cell_type": "markdown",
   "metadata": {
    "hidden": true
   },
   "source": [
    "Head to [dataportals.org](https://dataportals.org) to find a .csv file."
   ]
  },
  {
   "cell_type": "code",
   "execution_count": null,
   "metadata": {
    "hidden": true
   },
   "outputs": [],
   "source": []
  }
 ],
 "metadata": {
  "kernelspec": {
   "display_name": "Python 3 (ipykernel)",
   "language": "python",
   "name": "python3"
  },
  "language_info": {
   "codemirror_mode": {
    "name": "ipython",
    "version": 3
   },
   "file_extension": ".py",
   "mimetype": "text/x-python",
   "name": "python",
   "nbconvert_exporter": "python",
   "pygments_lexer": "ipython3",
   "version": "3.12.4"
  },
  "toc": {
   "base_numbering": 1,
   "nav_menu": {},
   "number_sections": true,
   "sideBar": true,
   "skip_h1_title": false,
   "title_cell": "Table of Contents",
   "title_sidebar": "Contents",
   "toc_cell": true,
   "toc_position": {
    "height": "calc(100% - 180px)",
    "left": "10px",
    "top": "150px",
    "width": "384px"
   },
   "toc_section_display": true,
   "toc_window_display": true
  }
 },
 "nbformat": 4,
 "nbformat_minor": 4
}
